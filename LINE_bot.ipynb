{
 "cells": [
  {
   "cell_type": "code",
   "execution_count": 1,
   "id": "63b96655-e938-4a0b-9385-b6a5ddd7dbd1",
   "metadata": {},
   "outputs": [
    {
     "name": "stdout",
     "output_type": "stream",
     "text": [
      "Collecting line-bot-sdk\n",
      "  Downloading line_bot_sdk-1.19.0-py2.py3-none-any.whl (68 kB)\n",
      "\u001b[K     |████████████████████████████████| 68 kB 1.0 MB/s eta 0:00:01\n",
      "\u001b[?25hRequirement already satisfied: requests>=2.0 in /Users/ryutaro/opt/anaconda3/lib/python3.8/site-packages (from line-bot-sdk) (2.25.1)\n",
      "Requirement already satisfied: future in /Users/ryutaro/opt/anaconda3/lib/python3.8/site-packages (from line-bot-sdk) (0.18.2)\n",
      "Requirement already satisfied: urllib3<1.27,>=1.21.1 in /Users/ryutaro/opt/anaconda3/lib/python3.8/site-packages (from requests>=2.0->line-bot-sdk) (1.26.4)\n",
      "Requirement already satisfied: chardet<5,>=3.0.2 in /Users/ryutaro/opt/anaconda3/lib/python3.8/site-packages (from requests>=2.0->line-bot-sdk) (4.0.0)\n",
      "Requirement already satisfied: certifi>=2017.4.17 in /Users/ryutaro/opt/anaconda3/lib/python3.8/site-packages (from requests>=2.0->line-bot-sdk) (2020.12.5)\n",
      "Requirement already satisfied: idna<3,>=2.5 in /Users/ryutaro/opt/anaconda3/lib/python3.8/site-packages (from requests>=2.0->line-bot-sdk) (2.10)\n",
      "Installing collected packages: line-bot-sdk\n",
      "Successfully installed line-bot-sdk-1.19.0\n"
     ]
    }
   ],
   "source": [
    "!pip install line-bot-sdk"
   ]
  },
  {
   "cell_type": "code",
   "execution_count": null,
   "id": "47d28316-4035-4953-bb90-0dbd285f6121",
   "metadata": {},
   "outputs": [],
   "source": []
  },
  {
   "cell_type": "code",
   "execution_count": 2,
   "id": "300a7605-f7d5-4e7f-9637-8a3ea802cb32",
   "metadata": {},
   "outputs": [],
   "source": [
    "import json"
   ]
  },
  {
   "cell_type": "code",
   "execution_count": 11,
   "id": "6f9b24db-be50-4fdd-a69f-d0be5bd348a9",
   "metadata": {
    "tags": []
   },
   "outputs": [],
   "source": [
    "file = open('info.json','r')\n",
    "info = json.load(file)"
   ]
  },
  {
   "cell_type": "code",
   "execution_count": 15,
   "id": "65cba241-dcb3-40d6-bd5c-138927ed8268",
   "metadata": {},
   "outputs": [],
   "source": [
    "from linebot import LineBotApi\n",
    "from linebot.models import TextSendMessage"
   ]
  },
  {
   "cell_type": "code",
   "execution_count": 16,
   "id": "ab01cd5d-205b-4dae-8ba8-3b5dd008dea6",
   "metadata": {},
   "outputs": [],
   "source": [
    "CHANNEL_ACCESS_TOKEN = info['CHANNEL_ACCESS_TOKEN']\n",
    "line_bot_api = LineBotApi(CHANNEL_ACCESS_TOKEN)"
   ]
  },
  {
   "cell_type": "code",
   "execution_count": 18,
   "id": "b34a5eb1-087b-4067-9fd3-d71921e5ab2a",
   "metadata": {},
   "outputs": [],
   "source": [
    "def main():\n",
    "    USER_ID = info['USER_ID']\n",
    "    messages = TextSendMessage(text = \"おはよう！\\n朝だよ♪\")\n",
    "    line_bot_api.push_message(USER_ID,messages)\n",
    "    \n",
    "#決まり文句\n",
    "if __name__ == \"__main__\":\n",
    "    main()"
   ]
  },
  {
   "cell_type": "code",
   "execution_count": null,
   "id": "b0a5110d-4c93-483c-8cb4-77eba89f4f11",
   "metadata": {},
   "outputs": [],
   "source": []
  }
 ],
 "metadata": {
  "kernelspec": {
   "display_name": "Python 3",
   "language": "python",
   "name": "python3"
  },
  "language_info": {
   "codemirror_mode": {
    "name": "ipython",
    "version": 3
   },
   "file_extension": ".py",
   "mimetype": "text/x-python",
   "name": "python",
   "nbconvert_exporter": "python",
   "pygments_lexer": "ipython3",
   "version": "3.8.8"
  }
 },
 "nbformat": 4,
 "nbformat_minor": 5
}
